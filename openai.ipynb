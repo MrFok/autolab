{
 "cells": [
  {
   "attachments": {},
   "cell_type": "markdown",
   "metadata": {},
   "source": [
    "Use OpenAI's Completions API to pass a string and turn it into a lab doc.\n",
    "https://platform.openai.com/docs/guides/gpt/function-calling"
   ]
  },
  {
   "cell_type": "code",
   "execution_count": 13,
   "metadata": {},
   "outputs": [],
   "source": [
    "# import the OpenAI API key from the .env file\n",
    "import os\n",
    "from dotenv import load_dotenv\n",
    "load_dotenv()\n",
    "secret_key = os.getenv('OPENAI_API_KEY')\n",
    "\n",
    "import openai\n",
    "import tiktoken\n",
    "\n",
    "model = \"text-davinci-003\"\n",
    "transcript = \"\"\"Now, I'll demonstrate the phenomenon of precipitation. To the sodium chloride solution, I'll add 10 milliliters of silver nitrate. Watch closely as the two solutions react. Ah, there it is! A white, cloudy precipitate of silver chloride forms. This indicates the formation of an insoluble compound.\n",
    "Next, we move on to acid-base titration. I'll measure 20 milliliters of hydrochloric acid and slowly add it to a flask containing 25 milliliters of sodium hydroxide. The indicator changes from pink to colorless, indicating neutralization.\n",
    "Lastly, let's explore oxidation and reduction. I'll prepare a reaction between potassium permanganate and glycerin. As I add a few drops of glycerin to the purple permanganate solution, an exothermic reaction occurs, accompanied by a vibrant color change to brown.\n",
    "That concludes our demonstration. Remember, chemistry is a dynamic and ever-evolving science. Keep exploring and discovering the wonders of the molecular world!\"\"\"\n"
   ]
  },
  {
   "cell_type": "code",
   "execution_count": 16,
   "metadata": {},
   "outputs": [
    {
     "data": {
      "text/plain": [
       "208"
      ]
     },
     "execution_count": 16,
     "metadata": {},
     "output_type": "execute_result"
    }
   ],
   "source": [
    "#count tokens to figure out a good max_tokens value\n",
    "encoding = tiktoken.get_encoding(\"cl100k_base\")\n",
    "encoding = tiktoken.encoding_for_model(model)\n",
    "num_tokens = len(encoding.encode(transcript))\n",
    "num_tokens"
   ]
  },
  {
   "cell_type": "code",
   "execution_count": 18,
   "metadata": {},
   "outputs": [
    {
     "data": {
      "text/plain": [
       "'\\n\\nProcedure:\\n1. To a sodium chloride solution, add 10 milliliters of silver nitrate and observe the formation of a white, cloudy precipitate of silver chloride.\\n2. Measure 20 milliliters of hydrochloric acid and slowly add it to a flask containing 25 milliliters of sodium hydroxide. Observe the indicator changing from pink to colorless, indicating neutralization.\\n3. Prepare a reaction between potassium permanganate and glycerin by adding a few drops of glycerin to the purple permanganate solution. Observe the exothermic reaction and the vibrant color change to brown.'"
      ]
     },
     "execution_count": 18,
     "metadata": {},
     "output_type": "execute_result"
    }
   ],
   "source": [
    "openai.api_key = secret_key\n",
    "response2 = openai.Completion.create(\n",
    "  model=model,\n",
    "  prompt=\"Edit the following transcript of a lab experiment into a clean and concise lab procedure that would appear in a lab report: \"+transcript,\n",
    "  temperature=0.2, #in range (0,2), higher = more creative\n",
    "  max_tokens=num_tokens,\n",
    ")\n",
    "response2.get('choices')[0].get('text')"
   ]
  },
  {
   "cell_type": "code",
   "execution_count": null,
   "metadata": {},
   "outputs": [],
   "source": []
  }
 ],
 "metadata": {
  "kernelspec": {
   "display_name": "altum",
   "language": "python",
   "name": "python3"
  },
  "language_info": {
   "codemirror_mode": {
    "name": "ipython",
    "version": 3
   },
   "file_extension": ".py",
   "mimetype": "text/x-python",
   "name": "python",
   "nbconvert_exporter": "python",
   "pygments_lexer": "ipython3",
   "version": "3.11.4"
  },
  "orig_nbformat": 4
 },
 "nbformat": 4,
 "nbformat_minor": 2
}
