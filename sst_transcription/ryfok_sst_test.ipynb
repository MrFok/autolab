{
 "cells": [
  {
   "cell_type": "markdown",
   "metadata": {},
   "source": [
    "# Speech to Text Testing Notebook\n",
    "\n",
    "Dependencies\n",
    "\n",
    "Pip (env)\n",
    "- google-cloud-speech[libcst]\n",
    "- ffmpeg-python\n",
    "- python-dotenv\n",
    "\n",
    "\n",
    "Conda \n",
    "- nb_conda_kernels\n",
    "\n",
    "Conda (env)\n",
    "- Python 3.10\n",
    "- ipykernel\n"
   ]
  },
  {
   "cell_type": "markdown",
   "metadata": {},
   "source": [
    "## Imports"
   ]
  },
  {
   "cell_type": "code",
   "execution_count": 1,
   "metadata": {
    "tags": []
   },
   "outputs": [],
   "source": [
    "from google.cloud import speech\n",
    "import ffmpeg\n",
    "import sys\n",
    "import os"
   ]
  },
  {
   "cell_type": "markdown",
   "metadata": {},
   "source": [
    "## Video Conversion\n",
    "\n",
    "Using MP4 (lossy codec) can reduce the accuracy of the audio. In order to generate the best results, we will transcode the video into lossless codec (FLAC). I decided not to go with LINEAR16 since its use case lies in applications that need more higher quality audio (also results in higher file size)\n",
    "\n",
    "## Optimal Formats\n",
    "- Sampling Rate > 16k Hz\\n\n",
    "- Lossless Codec (FLAC)\\n\n",
    "- Short queries -> use `StreamingRecognize` with `single_utterance` set to `true`"
   ]
  },
  {
   "cell_type": "code",
   "execution_count": 44,
   "metadata": {
    "tags": []
   },
   "outputs": [
    {
     "name": "stdout",
     "output_type": "stream",
     "text": [
      "c:\\Users\\ricky\\Documents\\My Files\\Altum Labs\\autolab\\sst_transcription\n"
     ]
    }
   ],
   "source": [
    "base_dir = os.getcwd()\n",
    "print(base_dir)"
   ]
  },
  {
   "cell_type": "code",
   "execution_count": 45,
   "metadata": {
    "tags": []
   },
   "outputs": [],
   "source": [
    "# from ipywidgets import interact\n",
    "# from matplotlib import pyplot as plt\n",
    "# import ipywidgets as widgets\n",
    "# import numpy as np"
   ]
  },
  {
   "cell_type": "code",
   "execution_count": 21,
   "metadata": {
    "tags": []
   },
   "outputs": [],
   "source": [
    "# probe = ffmpeg.probe(base_dir+'/in.mp4')\n",
    "# audio_streams = [stream for stream in probe['streams'] if stream['codec_type'] == 'audio']\n",
    "# audio_streams #verifying that there is audio"
   ]
  },
  {
   "cell_type": "code",
   "execution_count": 46,
   "metadata": {
    "tags": []
   },
   "outputs": [
    {
     "name": "stdout",
     "output_type": "stream",
     "text": [
      "ffmpeg version 2023-07-06-git-f00222e81f-full_build-www.gyan.dev Copyright (c) 2000-2023 the FFmpeg developers\n",
      "  built with gcc 12.2.0 (Rev10, Built by MSYS2 project)\n",
      "  configuration: --enable-gpl --enable-version3 --enable-static --disable-w32threads --disable-autodetect --enable-fontconfig --enable-iconv --enable-gnutls --enable-libxml2 --enable-gmp --enable-bzlib --enable-lzma --enable-libsnappy --enable-zlib --enable-librist --enable-libsrt --enable-libssh --enable-libzmq --enable-avisynth --enable-libbluray --enable-libcaca --enable-sdl2 --enable-libaribb24 --enable-libaribcaption --enable-libdav1d --enable-libdavs2 --enable-libuavs3d --enable-libzvbi --enable-librav1e --enable-libsvtav1 --enable-libwebp --enable-libx264 --enable-libx265 --enable-libxavs2 --enable-libxvid --enable-libaom --enable-libjxl --enable-libopenjpeg --enable-libvpx --enable-mediafoundation --enable-libass --enable-frei0r --enable-libfreetype --enable-libfribidi --enable-libharfbuzz --enable-liblensfun --enable-libvidstab --enable-libvmaf --enable-libzimg --enable-amf --enable-cuda-llvm --enable-cuvid --enable-ffnvcodec --enable-nvdec --enable-nvenc --enable-d3d11va --enable-dxva2 --enable-libvpl --enable-libshaderc --enable-vulkan --enable-libplacebo --enable-opencl --enable-libcdio --enable-libgme --enable-libmodplug --enable-libopenmpt --enable-libopencore-amrwb --enable-libmp3lame --enable-libshine --enable-libtheora --enable-libtwolame --enable-libvo-amrwbenc --enable-libcodec2 --enable-libilbc --enable-libgsm --enable-libopencore-amrnb --enable-libopus --enable-libspeex --enable-libvorbis --enable-ladspa --enable-libbs2b --enable-libflite --enable-libmysofa --enable-librubberband --enable-libsoxr --enable-chromaprint\n",
      "  libavutil      58. 14.100 / 58. 14.100\n",
      "  libavcodec     60. 22.100 / 60. 22.100\n",
      "  libavformat    60. 10.100 / 60. 10.100\n",
      "  libavdevice    60.  2.101 / 60.  2.101\n",
      "  libavfilter     9.  8.102 /  9.  8.102\n",
      "  libswscale      7.  3.100 /  7.  3.100\n",
      "  libswresample   4. 11.100 /  4. 11.100\n",
      "  libpostproc    57.  2.100 / 57.  2.100\n",
      "Input #0, mov,mp4,m4a,3gp,3g2,mj2, from '../data/wetlab1/sec4.mp4':\n",
      "  Metadata:\n",
      "    major_brand     : mp42\n",
      "    minor_version   : 1\n",
      "    compatible_brands: isommp41mp42\n",
      "    creation_time   : 2023-07-05T21:28:17.000000Z\n",
      "  Duration: 00:00:26.71, start: 0.000000, bitrate: 373 kb/s\n",
      "  Stream #0:0[0x1](und): Video: h264 (Main) (avc1 / 0x31637661), yuv420p(tv, bt709, progressive), 480x360 [SAR 1:1 DAR 4:3], 224 kb/s, 29.97 fps, 29.97 tbr, 30k tbn (default)\n",
      "    Metadata:\n",
      "      creation_time   : 2023-07-05T21:28:17.000000Z\n",
      "      handler_name    : Core Media Video\n",
      "      vendor_id       : [0][0][0][0]\n",
      "  Stream #0:1[0x2](und): Audio: aac (LC) (mp4a / 0x6134706D), 44100 Hz, stereo, fltp, 128 kb/s (default)\n",
      "    Metadata:\n",
      "      creation_time   : 2023-07-05T21:28:17.000000Z\n",
      "      handler_name    : Core Media Audio\n",
      "      vendor_id       : [0][0][0][0]\n",
      "At least one output file must be specified\n"
     ]
    }
   ],
   "source": [
    "!ffmpeg -i ../data/wetlab1/sec4.mp4 2>&1"
   ]
  },
  {
   "cell_type": "code",
   "execution_count": 62,
   "metadata": {
    "tags": []
   },
   "outputs": [
    {
     "ename": "SyntaxError",
     "evalue": "invalid syntax. Perhaps you forgot a comma? (2416979513.py, line 17)",
     "output_type": "error",
     "traceback": [
      "\u001b[1;36m  Cell \u001b[1;32mIn[62], line 17\u001b[1;36m\u001b[0m\n\u001b[1;33m    ffmpeg -loglevel error\u001b[0m\n\u001b[1;37m    ^\u001b[0m\n\u001b[1;31mSyntaxError\u001b[0m\u001b[1;31m:\u001b[0m invalid syntax. Perhaps you forgot a comma?\n"
     ]
    }
   ],
   "source": [
    "# testing\n",
    "\n",
    "input_dir = '../data/wetlab1/sec4.mp4'\n",
    "output_dir = '../data/wetlab1_flac/sec4.flac'\n",
    "\n",
    "# FLIPS VIDEO\n",
    "# {\n",
    "#     ffmpeg\n",
    "#     .input('sec4.mp4')\n",
    "#     .hflip()\n",
    "#     .output('output1.mp4', acodec='copy') #acodec is supposed to copy the audio over but doesn't quite work --izzy\n",
    "#     .run()\n",
    "# }\n",
    "\n",
    "#converting mp4 to audio flac file\n",
    "{\n",
    "    ffmpeg\n",
    "    .input(input_dir)\n",
    "    .output(output_dir, acodec='flac')\n",
    "    .run()\n",
    "}"
   ]
  },
  {
   "cell_type": "code",
   "execution_count": 48,
   "metadata": {
    "tags": []
   },
   "outputs": [
    {
     "name": "stdout",
     "output_type": "stream",
     "text": [
      "ffmpeg version 2023-07-06-git-f00222e81f-full_build-www.gyan.dev Copyright (c) 2000-2023 the FFmpeg developers\n",
      "  built with gcc 12.2.0 (Rev10, Built by MSYS2 project)\n",
      "  configuration: --enable-gpl --enable-version3 --enable-static --disable-w32threads --disable-autodetect --enable-fontconfig --enable-iconv --enable-gnutls --enable-libxml2 --enable-gmp --enable-bzlib --enable-lzma --enable-libsnappy --enable-zlib --enable-librist --enable-libsrt --enable-libssh --enable-libzmq --enable-avisynth --enable-libbluray --enable-libcaca --enable-sdl2 --enable-libaribb24 --enable-libaribcaption --enable-libdav1d --enable-libdavs2 --enable-libuavs3d --enable-libzvbi --enable-librav1e --enable-libsvtav1 --enable-libwebp --enable-libx264 --enable-libx265 --enable-libxavs2 --enable-libxvid --enable-libaom --enable-libjxl --enable-libopenjpeg --enable-libvpx --enable-mediafoundation --enable-libass --enable-frei0r --enable-libfreetype --enable-libfribidi --enable-libharfbuzz --enable-liblensfun --enable-libvidstab --enable-libvmaf --enable-libzimg --enable-amf --enable-cuda-llvm --enable-cuvid --enable-ffnvcodec --enable-nvdec --enable-nvenc --enable-d3d11va --enable-dxva2 --enable-libvpl --enable-libshaderc --enable-vulkan --enable-libplacebo --enable-opencl --enable-libcdio --enable-libgme --enable-libmodplug --enable-libopenmpt --enable-libopencore-amrwb --enable-libmp3lame --enable-libshine --enable-libtheora --enable-libtwolame --enable-libvo-amrwbenc --enable-libcodec2 --enable-libilbc --enable-libgsm --enable-libopencore-amrnb --enable-libopus --enable-libspeex --enable-libvorbis --enable-ladspa --enable-libbs2b --enable-libflite --enable-libmysofa --enable-librubberband --enable-libsoxr --enable-chromaprint\n",
      "  libavutil      58. 14.100 / 58. 14.100\n",
      "  libavcodec     60. 22.100 / 60. 22.100\n",
      "  libavformat    60. 10.100 / 60. 10.100\n",
      "  libavdevice    60.  2.101 / 60.  2.101\n",
      "  libavfilter     9.  8.102 /  9.  8.102\n",
      "  libswscale      7.  3.100 /  7.  3.100\n",
      "  libswresample   4. 11.100 /  4. 11.100\n",
      "  libpostproc    57.  2.100 / 57.  2.100\n",
      "Input #0, flac, from '../data/wetlab1_flac/sec4.flac':\n",
      "  Metadata:\n",
      "    major_brand     : mp42\n",
      "    minor_version   : 1\n",
      "    compatible_brands: isommp41mp42\n",
      "    encoder         : Lavf60.10.100\n",
      "  Duration: 00:00:26.72, start: 0.000000, bitrate: 595 kb/s\n",
      "  Stream #0:0: Audio: flac, 44100 Hz, stereo, s32 (24 bit)\n",
      "At least one output file must be specified\n"
     ]
    }
   ],
   "source": [
    "!ffmpeg -i ../data/wetlab1_flac/sec4.flac 2>&1"
   ]
  },
  {
   "cell_type": "markdown",
   "metadata": {
    "jp-MarkdownHeadingCollapsed": true,
    "tags": []
   },
   "source": [
    "## Speech2Text "
   ]
  },
  {
   "cell_type": "code",
   "execution_count": 42,
   "metadata": {},
   "outputs": [],
   "source": [
    "from googlestt import SpeechToText"
   ]
  },
  {
   "cell_type": "code",
   "execution_count": 49,
   "metadata": {},
   "outputs": [
    {
     "name": "stdout",
     "output_type": "stream",
     "text": [
      "c:\\Users\\ricky\\Documents\\My Files\\Altum Labs\\autolab\n"
     ]
    }
   ],
   "source": [
    "# Get the current working directory\n",
    "current_dir = os.getcwd()\n",
    "\n",
    "# Move back one directory\n",
    "parent_dir = os.path.abspath(os.path.join(current_dir, os.pardir))\n",
    "\n",
    "# Print the parent directory\n",
    "print(parent_dir)"
   ]
  },
  {
   "cell_type": "code",
   "execution_count": 50,
   "metadata": {},
   "outputs": [],
   "source": [
    "# Example of how to call STT on encoded audio bytes\n",
    "stt = SpeechToText(project_id=\"autolab-391921\",\n",
    "                    recognizer_id=\"recognizer1\")\n",
    "\n",
    "with open(f\"{parent_dir}/data/wetlab1_flac/sec4.flac\", \"rb\") as fd:\n",
    "    contents = fd.read()\n",
    "\n",
    "    # This response contains all the output data from the model\n",
    "    response = stt.speech_to_text(contents)"
   ]
  },
  {
   "cell_type": "code",
   "execution_count": 64,
   "metadata": {},
   "outputs": [
    {
     "name": "stdout",
     "output_type": "stream",
     "text": [
      "another thing I want to mention about cleaning is that if you do use any surgical lube and a cannulas if you leave these overnight the canyon as well Gunk up with the surgical Lube so it's always a good idea to take these off rinse them out or soak them in water to keep them clean otherwise you'll have to have new ones and if you have a tip for the syringe you can actually just cap that and then you have it ready to use for next time and then of course\n",
      "[('another thing I want to mention about cleaning is that if you do use any surgical lube and a cannulas if you leave these', 0.0, 7.0), (\" overnight the canyon as well Gunk up with the surgical Lube so it's always a good idea to take these off rinse them out or soak them in water to keep them clean otherwise you'll have to have new ones and if you have a tip for the syringe you can actually just cap that and then you have it ready to use for next time\", 7.0, 24.0), (' and then of course', 24.0, 26.0)]\n"
     ]
    }
   ],
   "source": [
    "# Check docs for better description, but these two functions will\n",
    "# put the results in a more convenient data type.\n",
    "# First one just returns a string, prolly use this for gpt.\n",
    "transcript_concat = stt.concatenate_transcripts(response)\n",
    "transcript_time = stt.get_transcript_list_and_times(response)\n",
    "\n",
    "print(transcript_concat)\n",
    "print(transcript_time)"
   ]
  },
  {
   "cell_type": "code",
   "execution_count": 67,
   "metadata": {},
   "outputs": [
    {
     "name": "stdout",
     "output_type": "stream",
     "text": [
      "another thing I want to mention about cleaning is that if you do use any surgical lube and a cannulas if you leave these [0.0-7.0]\n",
      " overnight the canyon as well Gunk up with the surgical Lube so it's always a good idea to take these off rinse them out or soak them in water to keep them clean otherwise you'll have to have new ones and if you have a tip for the syringe you can actually just cap that and then you have it ready to use for next time [7.0-24.0]\n",
      " and then of course [24.0-26.0]\n",
      "\n"
     ]
    }
   ],
   "source": [
    "# convert transcript_time into string\n",
    "format_transcript_time = \"\"\n",
    "for item in transcript_time:\n",
    "    text = item[0]\n",
    "    start_time = item[1]\n",
    "    end_time = item[2]\n",
    "    format_transcript_time += f\"{text} [{start_time}-{end_time}]\\n\"\n",
    "print(format_transcript_time)"
   ]
  },
  {
   "cell_type": "code",
   "execution_count": 70,
   "metadata": {},
   "outputs": [
    {
     "name": "stdout",
     "output_type": "stream",
     "text": [
      "Done!\n",
      "Done!\n"
     ]
    }
   ],
   "source": [
    "if os.path.exists(parent_dir + \"/instruction_generator/data/transcript_concat.txt\"):\n",
    "    print(\"File 'transcript_concat.txt' already exists. Aborting.\")\n",
    "else:\n",
    "    # place them in txt files for future use\n",
    "    with open(parent_dir + \"/instruction_generator/data/transcript_concat.txt\", \"w\") as file:\n",
    "        file.write(transcript_concat)\n",
    "        print('Done!')\n",
    "\n",
    "if os.path.exists(parent_dir + \"/instruction_generator/data/transcript_time.txt\"):\n",
    "    print(\"File 'transcript_time.txt' already exists. Aborting.\")\n",
    "else:\n",
    "    # place them in txt files for future use\n",
    "    with open(parent_dir + \"/instruction_generator/data/transcript_time.txt\", \"w\") as file:\n",
    "        file.write(format_transcript_time)\n",
    "        print('Done!')"
   ]
  },
  {
   "cell_type": "code",
   "execution_count": 53,
   "metadata": {},
   "outputs": [
    {
     "name": "stdout",
     "output_type": "stream",
     "text": [
      "c:\\Users\\ricky\\Documents\\My Files\\Altum Labs\\autolab/transcript_generator/data/transcript_concat.txt\n"
     ]
    }
   ],
   "source": [
    "print(parent_dir + \"/instruction/data/transcript_concat.txt\")"
   ]
  },
  {
   "cell_type": "code",
   "execution_count": 61,
   "metadata": {},
   "outputs": [
    {
     "name": "stdout",
     "output_type": "stream",
     "text": [
      "Saved to \"c:\\Users\\ricky\\Documents\\My Files\\Altum Labs\\autolab/transcript_generator/data/transcript_concat.txt\"!\n"
     ]
    }
   ],
   "source": [
    "print(f'Saved to \\\"%s\\\"' % (parent_dir + \"/instruction/data/transcript_concat.txt\"))"
   ]
  },
  {
   "cell_type": "code",
   "execution_count": 63,
   "metadata": {},
   "outputs": [
    {
     "name": "stdout",
     "output_type": "stream",
     "text": [
      "another thing I want to mention about cleaning is that if you do use any surgical lube and a cannulas if you leave these [0.0-7.0]\n",
      " overnight the canyon as well Gunk up with the surgical Lube so it's always a good idea to take these off rinse them out or soak them in water to keep them clean otherwise you'll have to have new ones and if you have a tip for the syringe you can actually just cap that and then you have it ready to use for next time [7.0-24.0]\n",
      " and then of course [24.0-26.0]\n",
      "\n"
     ]
    }
   ],
   "source": [
    "# transcript_time\n",
    "\n",
    "formatted_string = \"\"\n",
    "for item in transcript_time:\n",
    "    text = item[0]\n",
    "    start_time = item[1]\n",
    "    end_time = item[2]\n",
    "    formatted_string += f\"{text} [{start_time}-{end_time}]\\n\"\n",
    "\n",
    "print(formatted_string)"
   ]
  },
  {
   "cell_type": "code",
   "execution_count": null,
   "metadata": {},
   "outputs": [],
   "source": [
    "The following transcript of a lab experiement has text with start and end times of when they were said in a video. Edit the transcript into a clean and concise lab procedure that would appear in a lab report that contains the start and end times in each of the bullet points: "
   ]
  }
 ],
 "metadata": {
  "kernelspec": {
   "display_name": "sst_transcription_2",
   "language": "python",
   "name": "sst_transcription_2"
  },
  "language_info": {
   "codemirror_mode": {
    "name": "ipython",
    "version": 3
   },
   "file_extension": ".py",
   "mimetype": "text/x-python",
   "name": "python",
   "nbconvert_exporter": "python",
   "pygments_lexer": "ipython3",
   "version": "3.10.11"
  }
 },
 "nbformat": 4,
 "nbformat_minor": 4
}
