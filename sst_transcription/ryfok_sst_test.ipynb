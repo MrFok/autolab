{
 "cells": [
  {
   "attachments": {},
   "cell_type": "markdown",
   "metadata": {},
   "source": [
    "# Speech to Text Testing Notebook\n",
    "\n",
    "Dependencies\n",
    "\n",
    "Pip (env)\n",
    "- google-cloud-speech[libcst]\n",
    "- ffmpeg-python\n",
    "\n",
    "\n",
    "Conda \n",
    "- nb_conda_kernels\n",
    "\n",
    "Conda (env)\n",
    "- Python 3.10\n",
    "- ipykernel\n"
   ]
  },
  {
   "attachments": {},
   "cell_type": "markdown",
   "metadata": {},
   "source": [
    "## Imports"
   ]
  },
  {
   "cell_type": "code",
   "execution_count": 3,
   "metadata": {},
   "outputs": [],
   "source": [
    "from google.cloud import speech\n",
    "import ffmpeg\n",
    "import sys\n",
    "# from tqdm.notebook import tqdm"
   ]
  },
  {
   "attachments": {},
   "cell_type": "markdown",
   "metadata": {},
   "source": [
    "## Video Conversion\n",
    "\n",
    "Using MP4 (lossy codec) can reduce the accuracy of the audio. In order to generate the best results, we will transcode the video into lossless codec (FLAC). I decided not to go with LINEAR16 since its use case lies in applications that need more higher quality audio (also results in higher file size)"
   ]
  },
  {
   "cell_type": "code",
   "execution_count": 4,
   "metadata": {
    "tags": []
   },
   "outputs": [
    {
     "name": "stdout",
     "output_type": "stream",
     "text": [
      "/Users/isabellaqian/Documents/altum/autolab/sst_transcription\n"
     ]
    }
   ],
   "source": [
    "import os\n",
    "base_dir = os.getcwd()\n",
    "print(base_dir)"
   ]
  },
  {
   "cell_type": "code",
   "execution_count": 9,
   "metadata": {
    "tags": []
   },
   "outputs": [],
   "source": [
    "from ipywidgets import interact\n",
    "from matplotlib import pyplot as plt\n",
    "import ipywidgets as widgets\n",
    "import numpy as np"
   ]
  },
  {
   "cell_type": "code",
   "execution_count": 17,
   "metadata": {
    "tags": []
   },
   "outputs": [
    {
     "data": {
      "text/plain": [
       "[{'index': 1,\n",
       "  'codec_name': 'aac',\n",
       "  'codec_long_name': 'AAC (Advanced Audio Coding)',\n",
       "  'profile': 'LC',\n",
       "  'codec_type': 'audio',\n",
       "  'codec_time_base': '1/44100',\n",
       "  'codec_tag_string': 'mp4a',\n",
       "  'codec_tag': '0x6134706d',\n",
       "  'sample_fmt': 'fltp',\n",
       "  'sample_rate': '44100',\n",
       "  'channels': 2,\n",
       "  'channel_layout': 'stereo',\n",
       "  'bits_per_sample': 0,\n",
       "  'r_frame_rate': '0/0',\n",
       "  'avg_frame_rate': '0/0',\n",
       "  'time_base': '1/44100',\n",
       "  'start_pts': 0,\n",
       "  'start_time': '0.000000',\n",
       "  'duration_ts': 310272,\n",
       "  'duration': '7.035646',\n",
       "  'bit_rate': '125587',\n",
       "  'max_bit_rate': '125587',\n",
       "  'nb_frames': '303',\n",
       "  'disposition': {'default': 1,\n",
       "   'dub': 0,\n",
       "   'original': 0,\n",
       "   'comment': 0,\n",
       "   'lyrics': 0,\n",
       "   'karaoke': 0,\n",
       "   'forced': 0,\n",
       "   'hearing_impaired': 0,\n",
       "   'visual_impaired': 0,\n",
       "   'clean_effects': 0,\n",
       "   'attached_pic': 0,\n",
       "   'timed_thumbnails': 0},\n",
       "  'tags': {'language': 'und', 'handler_name': 'SoundHandler'}}]"
      ]
     },
     "execution_count": 17,
     "metadata": {},
     "output_type": "execute_result"
    }
   ],
   "source": [
    "probe = ffmpeg.probe(base_dir+'/in.mp4')\n",
    "audio_streams = [stream for stream in probe['streams'] if stream['codec_type'] == 'audio']\n",
    "audio_streams #verifying that there is audio"
   ]
  },
  {
   "cell_type": "code",
   "execution_count": 13,
   "metadata": {
    "tags": []
   },
   "outputs": [
    {
     "name": "stderr",
     "output_type": "stream",
     "text": [
      "ffmpeg version 4.2.2 Copyright (c) 2000-2019 the FFmpeg developers\n",
      "  built with clang version 12.0.0\n",
      "  configuration: --prefix=/Users/ktietz/demo/mc3/conda-bld/ffmpeg_1628925491858/_h_env_placehold_placehold_placehold_placehold_placehold_placehold_placehold_placehold_placehold_placehold_placehold_placehold_placehold_placehold_placehold_placehold_placehold_placehold_placehold_plac --cc=arm64-apple-darwin20.0.0-clang --disable-doc --enable-avresample --enable-gmp --enable-hardcoded-tables --enable-libfreetype --enable-libvpx --enable-pthreads --enable-libopus --enable-postproc --enable-pic --enable-pthreads --enable-shared --enable-static --enable-version3 --enable-zlib --enable-libmp3lame --disable-nonfree --enable-gpl --enable-gnutls --disable-openssl --enable-libopenh264 --enable-libx264\n",
      "  libavutil      56. 31.100 / 56. 31.100\n",
      "  libavcodec     58. 54.100 / 58. 54.100\n",
      "  libavformat    58. 29.100 / 58. 29.100\n",
      "  libavdevice    58.  8.100 / 58.  8.100\n",
      "  libavfilter     7. 57.100 /  7. 57.100\n",
      "  libavresample   4.  0.  0 /  4.  0.  0\n",
      "  libswscale      5.  5.100 /  5.  5.100\n",
      "  libswresample   3.  5.100 /  3.  5.100\n",
      "  libpostproc    55.  5.100 / 55.  5.100\n",
      "Input #0, mov,mp4,m4a,3gp,3g2,mj2, from 'sec4.mp4':\n",
      "  Metadata:\n",
      "    major_brand     : mp42\n",
      "    minor_version   : 1\n",
      "    compatible_brands: isommp41mp42\n",
      "    creation_time   : 2023-07-05T21:28:17.000000Z\n",
      "  Duration: 00:00:26.71, start: 0.000000, bitrate: 373 kb/s\n",
      "    Stream #0:0(und): Video: h264 (Main) (avc1 / 0x31637661), yuv420p(tv, bt709), 480x360 [SAR 1:1 DAR 4:3], 224 kb/s, 29.97 fps, 29.97 tbr, 30k tbn, 59.94 tbc (default)\n",
      "    Metadata:\n",
      "      creation_time   : 2023-07-05T21:28:17.000000Z\n",
      "      handler_name    : Core Media Video\n",
      "    Stream #0:1(und): Audio: aac (LC) (mp4a / 0x6134706D), 44100 Hz, stereo, fltp, 128 kb/s (default)\n",
      "    Metadata:\n",
      "      creation_time   : 2023-07-05T21:28:17.000000Z\n",
      "      handler_name    : Core Media Audio\n",
      "Stream mapping:\n",
      "  Stream #0:0 (h264) -> hflip\n",
      "  hflip -> Stream #0:0 (libx264)\n",
      "Press [q] to stop, [?] for help\n",
      "[libx264 @ 0x15c00ba00] using SAR=1/1\n",
      "[libx264 @ 0x15c00ba00] using cpu capabilities: ARMv8 NEON\n",
      "[libx264 @ 0x15c00ba00] profile High, level 3.0\n",
      "[libx264 @ 0x15c00ba00] 264 - core 152 - H.264/MPEG-4 AVC codec - Copyleft 2003-2017 - http://www.videolan.org/x264.html - options: cabac=1 ref=3 deblock=1:0:0 analyse=0x3:0x113 me=hex subme=7 psy=1 psy_rd=1.00:0.00 mixed_ref=1 me_range=16 chroma_me=1 trellis=1 8x8dct=1 cqm=0 deadzone=21,11 fast_pskip=1 chroma_qp_offset=-2 threads=11 lookahead_threads=1 sliced_threads=0 nr=0 decimate=1 interlaced=0 bluray_compat=0 constrained_intra=0 bframes=3 b_pyramid=2 b_adapt=1 b_bias=0 direct=1 weightb=1 open_gop=0 weightp=2 keyint=250 keyint_min=25 scenecut=40 intra_refresh=0 rc_lookahead=40 rc=crf mbtree=1 crf=23.0 qcomp=0.60 qpmin=0 qpmax=69 qpstep=4 ip_ratio=1.40 aq=1:1.00\n",
      "Output #0, mp4, to 'output1.mp4':\n",
      "  Metadata:\n",
      "    major_brand     : mp42\n",
      "    minor_version   : 1\n",
      "    compatible_brands: isommp41mp42\n",
      "    encoder         : Lavf58.29.100\n",
      "    Stream #0:0: Video: h264 (libx264) (avc1 / 0x31637661), yuv420p, 480x360 [SAR 1:1 DAR 4:3], q=-1--1, 29.97 fps, 30k tbn, 29.97 tbc (default)\n",
      "    Metadata:\n",
      "      encoder         : Lavc58.54.100 libx264\n",
      "    Side data:\n",
      "      cpb: bitrate max/min/avg: 0/0/0 buffer size: 0 vbv_delay: -1\n",
      "frame=  800 fps=0.0 q=-1.0 Lsize=     947kB time=00:00:26.59 bitrate= 291.7kbits/s speed=31.8x    \n",
      "video:937kB audio:0kB subtitle:0kB other streams:0kB global headers:0kB muxing overhead: 1.060331%\n",
      "[libx264 @ 0x15c00ba00] frame I:4     Avg QP:20.01  size: 10888\n",
      "[libx264 @ 0x15c00ba00] frame P:253   Avg QP:22.48  size:  2525\n",
      "[libx264 @ 0x15c00ba00] frame B:543   Avg QP:26.68  size:   509\n",
      "[libx264 @ 0x15c00ba00] consecutive B-frames:  1.6% 19.8% 11.6% 67.0%\n",
      "[libx264 @ 0x15c00ba00] mb I  I16..4: 16.5% 57.8% 25.7%\n",
      "[libx264 @ 0x15c00ba00] mb P  I16..4:  3.5%  5.0%  0.9%  P16..4: 46.0% 10.5%  5.2%  0.0%  0.0%    skip:28.9%\n",
      "[libx264 @ 0x15c00ba00] mb B  I16..4:  0.1%  0.2%  0.0%  B16..8: 41.3%  1.7%  0.5%  direct: 0.3%  skip:55.9%  L0:42.2% L1:56.0% BI: 1.8%\n",
      "[libx264 @ 0x15c00ba00] 8x8 transform intra:54.2% inter:70.6%\n",
      "[libx264 @ 0x15c00ba00] coded y,uvDC,uvAC intra: 40.4% 62.3% 16.5% inter: 5.6% 6.3% 0.3%\n",
      "[libx264 @ 0x15c00ba00] i16 v,h,dc,p: 30% 20% 15% 35%\n",
      "[libx264 @ 0x15c00ba00] i8 v,h,dc,ddl,ddr,vr,hd,vl,hu: 30% 19% 27%  3%  4%  3%  4%  5%  5%\n",
      "[libx264 @ 0x15c00ba00] i4 v,h,dc,ddl,ddr,vr,hd,vl,hu: 29% 22% 19%  4%  7%  5%  6%  4%  4%\n",
      "[libx264 @ 0x15c00ba00] i8c dc,h,v,p: 53% 19% 23%  6%\n",
      "[libx264 @ 0x15c00ba00] Weighted P-Frames: Y:0.0% UV:0.0%\n",
      "[libx264 @ 0x15c00ba00] ref P L0: 68.4% 10.6% 16.0%  4.9%\n",
      "[libx264 @ 0x15c00ba00] ref B L0: 87.7% 10.5%  1.8%\n",
      "[libx264 @ 0x15c00ba00] ref B L1: 95.3%  4.7%\n",
      "[libx264 @ 0x15c00ba00] kb/s:287.39\n"
     ]
    },
    {
     "data": {
      "text/plain": [
       "{(None, None)}"
      ]
     },
     "execution_count": 13,
     "metadata": {},
     "output_type": "execute_result"
    }
   ],
   "source": [
    "# input_file = r'sst_transcription/sec4.mp4'\n",
    "# output_file = r'output.flac'\n",
    "# FLIPS VIDEO\n",
    "{\n",
    "    ffmpeg\n",
    "    .input('sec4.mp4')\n",
    "    .hflip()\n",
    "    .output('output1.mp4', acodec='copy') #acodec is supposed to copy the audio over but doesn't quite work --izzy\n",
    "    .run()\n",
    "}"
   ]
  },
  {
   "cell_type": "code",
   "execution_count": 21,
   "metadata": {},
   "outputs": [
    {
     "name": "stderr",
     "output_type": "stream",
     "text": [
      "ffmpeg version 4.2.2 Copyright (c) 2000-2019 the FFmpeg developers\n",
      "  built with clang version 12.0.0\n",
      "  configuration: --prefix=/Users/ktietz/demo/mc3/conda-bld/ffmpeg_1628925491858/_h_env_placehold_placehold_placehold_placehold_placehold_placehold_placehold_placehold_placehold_placehold_placehold_placehold_placehold_placehold_placehold_placehold_placehold_placehold_placehold_plac --cc=arm64-apple-darwin20.0.0-clang --disable-doc --enable-avresample --enable-gmp --enable-hardcoded-tables --enable-libfreetype --enable-libvpx --enable-pthreads --enable-libopus --enable-postproc --enable-pic --enable-pthreads --enable-shared --enable-static --enable-version3 --enable-zlib --enable-libmp3lame --disable-nonfree --enable-gpl --enable-gnutls --disable-openssl --enable-libopenh264 --enable-libx264\n",
      "  libavutil      56. 31.100 / 56. 31.100\n",
      "  libavcodec     58. 54.100 / 58. 54.100\n",
      "  libavformat    58. 29.100 / 58. 29.100\n",
      "  libavdevice    58.  8.100 / 58.  8.100\n",
      "  libavfilter     7. 57.100 /  7. 57.100\n",
      "  libavresample   4.  0.  0 /  4.  0.  0\n",
      "  libswscale      5.  5.100 /  5.  5.100\n",
      "  libswresample   3.  5.100 /  3.  5.100\n",
      "  libpostproc    55.  5.100 / 55.  5.100\n",
      "Input #0, mov,mp4,m4a,3gp,3g2,mj2, from 'sec4.mp4':\n",
      "  Metadata:\n",
      "    major_brand     : mp42\n",
      "    minor_version   : 1\n",
      "    compatible_brands: isommp41mp42\n",
      "    creation_time   : 2023-07-05T21:28:17.000000Z\n",
      "  Duration: 00:00:26.71, start: 0.000000, bitrate: 373 kb/s\n",
      "    Stream #0:0(und): Video: h264 (Main) (avc1 / 0x31637661), yuv420p(tv, bt709), 480x360 [SAR 1:1 DAR 4:3], 224 kb/s, 29.97 fps, 29.97 tbr, 30k tbn, 59.94 tbc (default)\n",
      "    Metadata:\n",
      "      creation_time   : 2023-07-05T21:28:17.000000Z\n",
      "      handler_name    : Core Media Video\n",
      "    Stream #0:1(und): Audio: aac (LC) (mp4a / 0x6134706D), 44100 Hz, stereo, fltp, 128 kb/s (default)\n",
      "    Metadata:\n",
      "      creation_time   : 2023-07-05T21:28:17.000000Z\n",
      "      handler_name    : Core Media Audio\n",
      "Stream mapping:\n",
      "  Stream #0:0 -> #0:0 (h264 (native) -> png (native))\n",
      "  Stream #0:1 -> #0:1 (aac (native) -> flac (native))\n",
      "Press [q] to stop, [?] for help\n",
      "[flac @ 0x134810e00] encoding as 24 bits-per-sample\n",
      "[swscaler @ 0x1181a8000] No accelerated colorspace conversion found from yuv420p to rgb24.\n",
      "[flac @ 0x134808c00] Video stream #0 is not an attached picture. Ignoring\n",
      "Output #0, flac, to 'output.flac':\n",
      "  Metadata:\n",
      "    major_brand     : mp42\n",
      "    minor_version   : 1\n",
      "    compatible_brands: isommp41mp42\n",
      "    encoder         : Lavf58.29.100\n",
      "    Stream #0:0(und): Video: png, rgb24, 480x360 [SAR 1:1 DAR 4:3], q=2-31, 200 kb/s, 29.97 fps, 29.97 tbn, 29.97 tbc (default)\n",
      "    Metadata:\n",
      "      creation_time   : 2023-07-05T21:28:17.000000Z\n",
      "      handler_name    : Core Media Video\n",
      "      encoder         : Lavc58.54.100 png\n",
      "    Stream #0:1(und): Audio: flac, 44100 Hz, stereo, s32 (24 bit), 128 kb/s (default)\n",
      "    Metadata:\n",
      "      creation_time   : 2023-07-05T21:28:17.000000Z\n",
      "      handler_name    : Core Media Audio\n",
      "      encoder         : Lavc58.54.100 flac\n",
      "frame=  800 fps=504 q=-0.0 Lsize=    1941kB time=00:00:26.71 bitrate= 595.2kbits/s speed=16.8x    \n",
      "video:145531kB audio:1933kB subtitle:0kB other streams:0kB global headers:0kB muxing overhead: unknown\n"
     ]
    },
    {
     "data": {
      "text/plain": [
       "{(None, None)}"
      ]
     },
     "execution_count": 21,
     "metadata": {},
     "output_type": "execute_result"
    }
   ],
   "source": [
    "#converting audio to flac\n",
    "{\n",
    "    ffmpeg\n",
    "    .input('sec4.mp4')\n",
    "    .output('output.flac', acodec='flac')\n",
    "    .run()\n",
    "}"
   ]
  },
  {
   "attachments": {},
   "cell_type": "markdown",
   "metadata": {
    "jp-MarkdownHeadingCollapsed": true,
    "tags": []
   },
   "source": [
    "## Speech2Text "
   ]
  },
  {
   "cell_type": "code",
   "execution_count": null,
   "metadata": {},
   "outputs": [],
   "source": [
    "client = speech.SpeechClient()\n",
    "\n",
    "request = speech.RecognizeRequest(request={\"config\": config, \"audio\": audio})\n",
    "response = client.list_voices(request=request)"
   ]
  }
 ],
 "metadata": {
  "kernelspec": {
   "display_name": "altum",
   "language": "python",
   "name": "python3"
  },
  "language_info": {
   "codemirror_mode": {
    "name": "ipython",
    "version": 3
   },
   "file_extension": ".py",
   "mimetype": "text/x-python",
   "name": "python",
   "nbconvert_exporter": "python",
   "pygments_lexer": "ipython3",
   "version": "3.11.4"
  }
 },
 "nbformat": 4,
 "nbformat_minor": 4
}
