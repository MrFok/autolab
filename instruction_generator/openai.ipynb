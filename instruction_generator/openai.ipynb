{
 "cells": [
  {
   "attachments": {},
   "cell_type": "markdown",
   "metadata": {},
   "source": [
    "# GPT Lab Instruction Conversion\n",
    "\n",
    "Use OpenAI's Completions API to pass a string and turn it into a lab doc.\n",
    "https://platform.openai.com/docs/guides/gpt/function-calling"
   ]
  },
  {
   "attachments": {},
   "cell_type": "markdown",
   "metadata": {},
   "source": [
    "## Imports & Helper Classes"
   ]
  },
  {
   "cell_type": "code",
   "execution_count": 1,
   "metadata": {},
   "outputs": [],
   "source": [
    "import os\n",
    "from dotenv import load_dotenv\n",
    "\n",
    "import openai\n",
    "import tiktoken"
   ]
  },
  {
   "cell_type": "code",
   "execution_count": 2,
   "metadata": {},
   "outputs": [],
   "source": [
    "def properReformat(raw_response):\n",
    "\n",
    "    # Split the string by newlines\n",
    "    lines = raw_response.split('\\n')\n",
    "\n",
    "    # Remove empty lines\n",
    "    lines = [line.strip() for line in lines if line.strip()]\n",
    "\n",
    "    # Format as a numerical list\n",
    "    formatted_lines = [f'{line}' for index, line in enumerate(lines)]\n",
    "\n",
    "    # Join the formatted lines with newlines\n",
    "    formatted_string = '\\n'.join(formatted_lines)\n",
    "\n",
    "    return formatted_string"
   ]
  },
  {
   "attachments": {},
   "cell_type": "markdown",
   "metadata": {},
   "source": [
    "## Load Key"
   ]
  },
  {
   "cell_type": "code",
   "execution_count": 3,
   "metadata": {},
   "outputs": [],
   "source": [
    "# import the OpenAI API key from the .env file\n",
    "load_dotenv()\n",
    "secret_key = os.getenv('OPENAI_API_KEY')"
   ]
  },
  {
   "attachments": {},
   "cell_type": "markdown",
   "metadata": {},
   "source": [
    "## Preset Transcript"
   ]
  },
  {
   "cell_type": "code",
   "execution_count": 53,
   "metadata": {},
   "outputs": [],
   "source": [
    "# set model\n",
    "model = \"text-davinci-003\"\n",
    "\n",
    "# preset transcript\n",
    "transcript = \"\"\"Now, I'll demonstrate the phenomenon of precipitation. To the sodium chloride solution, I'll add 10 milliliters of silver nitrate. Watch closely as the two solutions react. Ah, there it is! A white, cloudy precipitate of silver chloride forms. This indicates the formation of an insoluble compound.\n",
    "Next, we move on to acid-base titration. I'll measure 20 milliliters of hydrochloric acid and slowly add it to a flask containing 25 milliliters of sodium hydroxide. The indicator changes from pink to colorless, indicating neutralization.\n",
    "Lastly, let's explore oxidation and reduction. I'll prepare a reaction between potassium permanganate and glycerin. As I add a few drops of glycerin to the purple permanganate solution, an exothermic reaction occurs, accompanied by a vibrant color change to brown.\n",
    "That concludes our demonstration. Remember, chemistry is a dynamic and ever-evolving science. Keep exploring and discovering the wonders of the molecular world!\"\"\"\n",
    "\n",
    "prompt = \"\"\"The following is a timestamped transcript of a lab. Edit it into a clean and concise procedure that would appear in a lab report. Include \"Summary\" concisely stating the lab's goals, separate with \"Procedure\", use \"-\" for each step. Transcript: \"\"\"\n",
    "\n",
    "output = None\n",
    "with open(\"./data/transcript_time2.txt\", \"r\") as file:\n",
    "    transcript = file.read()\n",
    "with open(\"./data/outputs/instruction_set.txt\", \"r\") as file:\n",
    "    output = file.read()\n",
    "\n"
   ]
  },
  {
   "cell_type": "code",
   "execution_count": 54,
   "metadata": {},
   "outputs": [
    {
     "name": "stdout",
     "output_type": "stream",
     "text": [
      "72\n"
     ]
    },
    {
     "data": {
      "text/plain": [
       "240"
      ]
     },
     "execution_count": 54,
     "metadata": {},
     "output_type": "execute_result"
    }
   ],
   "source": [
    "#count tokens to figure out a good max_tokens value\n",
    "encoding = tiktoken.get_encoding(\"cl100k_base\")\n",
    "encoding = tiktoken.encoding_for_model(model)\n",
    "num_tokens = len(encoding.encode(transcript))\n",
    "num_tokens2 = len(encoding.encode(prompt))\n",
    "print(num_tokens2)\n",
    "num_tokens"
   ]
  },
  {
   "cell_type": "code",
   "execution_count": 56,
   "metadata": {},
   "outputs": [],
   "source": [
    "openai.api_key = secret_key\n",
    "r = []\n",
    "for i in range(5):\n",
    "  response_preset = openai.Completion.create(\n",
    "    model=model,\n",
    "    prompt=prompt+transcript,\n",
    "    temperature=0.2, #in range (0,2), higher = more creative\n",
    "    max_tokens=4096,\n",
    "  )\n",
    "  r.append(response_preset.get(\"choices\")[0].get(\"text\"))"
   ]
  },
  {
   "cell_type": "code",
   "execution_count": 57,
   "metadata": {},
   "outputs": [
    {
     "name": "stdout",
     "output_type": "stream",
     "text": [
      "\n",
      "\n",
      "Summary: This lab focuses on preparing a wet lab space for ophthalmology procedures, including the use of a microscope, instruments, and a pig eye.\n",
      "\n",
      "Procedure:\n",
      "-Set up shelves for storage of instruments and supplies, as well as a sink for cleaning utensils [0.0-22.0].\n",
      "-Prepare a fixative for the anterior capsule to make it less elastic, and a fixative to inject into the limbs to induce a cataract [22.0-35.0].\n",
      "-Utilize a microwave to induce a cataract in a pig eye, and store the eye in a mini fridge [35.0-45.0].\n",
      "-Lay out instruments on the work table [45.0-48.0].\n",
      "-Pin the pig eye down with pens located where the rectus muscles would be [48.0-59.0].\n",
      "--------------------------------------------------\n",
      "\n",
      "\n",
      "Summary: This lab focuses on preparing a wet lab space for ophthalmic surgery, including setting up a microscope, instruments, and a pig eye.\n",
      "\n",
      "Procedure:\n",
      "-Set up shelves for storage of instruments and supplies, as well as an area with a sink for cleaning utensils [0.0-22.0]\n",
      "-Prepare a fixative for the anterior capsule to make it less elastic, and a fixative to inject into the limbs to induce a cataract [22.0-35.0]\n",
      "-Set up a microwave and mini fridge to store the pig eye [35.0-45.0]\n",
      "-Set up an operating microscope with a teaching scope [45.0-48.0]\n",
      "-Pin the pig eye down with pens located where the rectus muscles would be [48.0-59.0]\n",
      "--------------------------------------------------\n",
      "\n",
      "\n",
      "Summary: This lab focuses on preparing a wet lab space for cataract surgery.\n",
      "\n",
      "Procedure:\n",
      "-Set up shelves for storage of instruments and supplies, and an area with a sink for cleaning utensils [0.0-22.0].\n",
      "-Prepare a fixative for the anterior capsule to make it less elastic, and a fixative to inject into the limbs to induce a cataract [22.0-35.0].\n",
      "-Set up a microwave and mini fridge to store the big eye [35.0-45.0].\n",
      "-Lay out instruments on the work table [45.0-48.0].\n",
      "-Pin the pig eye down with pens located about where the rectus muscles would be [48.0-59.0].\n",
      "--------------------------------------------------\n",
      "\n",
      "\n",
      "Summary: This lab focuses on preparing a wet lab space for ophthalmic surgery, including setting up the operating microscope, instruments, and pig eye.\n",
      "\n",
      "Procedure:\n",
      "-Set up shelves for storage of instruments and supplies, and an area with a sink for cleaning utensils [0.0-22.0]\n",
      "-Prepare fixatives for the anterior capsule and limbs to induce a cataract [22.0-35.0]\n",
      "-Use a microwave to induce a cataract in a pig eye, and store the eye in a mini fridge [35.0-45.0]\n",
      "-Lay out instruments on a work table [45.0-48.0]\n",
      "-Pin the pig eye down with pens located where the rectus muscles would be [48.0-59.0]\n",
      "--------------------------------------------------\n",
      "\n",
      "\n",
      "Summary: This lab focuses on the preparation of a wet lab space for cataract surgery.\n",
      "\n",
      "Procedure:\n",
      "-Set up shelves for storage of instruments and supplies, and an area with a sink for cleaning utensils [0.0-22.0].\n",
      "-Prepare fixatives for the anterior capsule and limbs to induce a cataract [22.0-35.0].\n",
      "-Use a microwave to induce a cataract [35.0-45.0].\n",
      "-Set up a mini fridge to store the eye [45.0-48.0].\n",
      "-Pin the eye down with pens located where the rectus muscles would be [48.0-59.0].\n",
      "--------------------------------------------------\n"
     ]
    }
   ],
   "source": [
    "for i in r:\n",
    "    print(i)\n",
    "    print(\"--------------------------------------------------\")"
   ]
  },
  {
   "cell_type": "code",
   "execution_count": 61,
   "metadata": {},
   "outputs": [
    {
     "data": {
      "text/plain": [
       "True"
      ]
     },
     "execution_count": 61,
     "metadata": {},
     "output_type": "execute_result"
    }
   ],
   "source": [
    "response_preset.get(\"choices\")[0].get(\"finish_reason\") == \"stop\""
   ]
  },
  {
   "cell_type": "code",
   "execution_count": 23,
   "metadata": {},
   "outputs": [
    {
     "name": "stdout",
     "output_type": "stream",
     "text": [
      "\n",
      "\n",
      "Summary: This lab experiment is designed to prepare a fixative for the anterior capsule, inject fixatives into the limbs to induce a cataract, and use a microwave to induce a cataract.\n",
      "\n",
      "Procedure:\n",
      "- Set up the lab space with shelves for storage, an area with a sink for cleaning utensils, a microwave, and a mini fridge.\n",
      "- Place an operating microscope with a teaching scope on the work table.\n",
      "\n",
      "Summary: This lab experiment is designed to prepare a fixative for the anterior capsule, inject fixatives into the limbs to induce a cataract, and use a microwave to induce a cataract.\n",
      "Procedure:\n",
      "- Set up the lab space with shelves for storage, an area with a sink for cleaning utensils, a microwave, and a mini fridge.\n",
      "- Place an operating microscope with a teaching scope on the work table.\n"
     ]
    }
   ],
   "source": [
    "raw_response_preset = response_preset.get('choices')[0].get('text')\n",
    "tmp = properReformat(raw_response_preset)\n",
    "print(raw_response_preset)\n",
    "print(tmp)"
   ]
  },
  {
   "attachments": {},
   "cell_type": "markdown",
   "metadata": {},
   "source": [
    "## 'transcript_concat.txt' Transcript Conversion"
   ]
  },
  {
   "cell_type": "code",
   "execution_count": 5,
   "metadata": {},
   "outputs": [
    {
     "name": "stdout",
     "output_type": "stream",
     "text": [
      "another thing I want to mention about cleaning is that if you do use any surgical lube and a cannulas if you leave these overnight the canyon as well Gunk up with the surgical Lube so it's always a good idea to take these off rinse them out or soak them in water to keep them clean otherwise you'll have to have new ones and if you have a tip for the syringe you can actually just cap that and then you have it ready to use for next time and then of course\n"
     ]
    }
   ],
   "source": [
    "model = \"text-davinci-003\"\n",
    "\n",
    "# read in transcript txt file\n",
    "transcript = \"\"\n",
    "with open(\"data/transcript_concat.txt\", \"r\") as file:\n",
    "    transcript = file.read()\n",
    "\n",
    "print(transcript)"
   ]
  },
  {
   "cell_type": "code",
   "execution_count": 6,
   "metadata": {},
   "outputs": [
    {
     "data": {
      "text/plain": [
       "101"
      ]
     },
     "execution_count": 6,
     "metadata": {},
     "output_type": "execute_result"
    }
   ],
   "source": [
    "#count tokens to figure out a good max_tokens value\n",
    "encoding = tiktoken.get_encoding(\"cl100k_base\")\n",
    "encoding = tiktoken.encoding_for_model(model)\n",
    "num_tokens = len(encoding.encode(transcript))\n",
    "num_tokens"
   ]
  },
  {
   "cell_type": "code",
   "execution_count": 7,
   "metadata": {},
   "outputs": [
    {
     "name": "stdout",
     "output_type": "stream",
     "text": [
      "you want to make sure you're cleaning the area that you're going to be injecting\n",
      "Start: 0:00\n",
      "End: 0:00\n",
      "- Clean any surgical lube and cannulas used overnight with water to prevent them from gunking up.\n",
      "Start: 0:00\n",
      "End: 0:00\n",
      "- Cap the syringe tip for use next time.\n",
      "Start: 0:00\n",
      "End: 0:00\n",
      "- Clean the area of\n"
     ]
    }
   ],
   "source": [
    "openai.api_key = secret_key\n",
    "response_preset_output = openai.Completion.create(\n",
    "  model=model,\n",
    "  prompt=\"Edit the following transcript of a lab experiment into a clean and concise lab procedure that would appear in a lab report: \"+ transcript,\n",
    "  temperature=0.2, #in range (0,2), higher = more creative\n",
    "  max_tokens=num_tokens,\n",
    ")\n",
    "\n",
    "raw_response_preset = response_preset_output.get('choices')[0].get('text')\n",
    "response_preset = properReformat(raw_response_preset)\n",
    "print(response_preset)"
   ]
  },
  {
   "cell_type": "code",
   "execution_count": 17,
   "metadata": {},
   "outputs": [
    {
     "data": {
      "text/plain": [
       "<OpenAIObject text_completion id=cmpl-7ZTd1VgE4SwFZDwAlxjCouUzKB2tx at 0x208ba6571a0> JSON: {\n",
       "  \"id\": \"cmpl-7ZTd1VgE4SwFZDwAlxjCouUzKB2tx\",\n",
       "  \"object\": \"text_completion\",\n",
       "  \"created\": 1688689727,\n",
       "  \"model\": \"text-davinci-003\",\n",
       "  \"choices\": [\n",
       "    {\n",
       "      \"text\": \" you want to make sure you clean up any spills\\n\\nClean Up Procedure:\\n\\n1. After use, remove any surgical lube and cannulas and rinse or soak in water to prevent them from becoming clogged.\\n2. If using a syringe, cap the tip for future use.\\n3. Clean up any spills.\",\n",
       "      \"index\": 0,\n",
       "      \"logprobs\": null,\n",
       "      \"finish_reason\": \"stop\"\n",
       "    }\n",
       "  ],\n",
       "  \"usage\": {\n",
       "    \"prompt_tokens\": 124,\n",
       "    \"completion_tokens\": 69,\n",
       "    \"total_tokens\": 193\n",
       "  }\n",
       "}"
      ]
     },
     "execution_count": 17,
     "metadata": {},
     "output_type": "execute_result"
    }
   ],
   "source": [
    "response_preset_output"
   ]
  },
  {
   "attachments": {},
   "cell_type": "markdown",
   "metadata": {},
   "source": [
    "## 'transcript_time.txt' Transcript Conversion"
   ]
  },
  {
   "cell_type": "code",
   "execution_count": 10,
   "metadata": {},
   "outputs": [
    {
     "name": "stdout",
     "output_type": "stream",
     "text": [
      "c:\\Users\\ricky\\Documents\\My Files\\Altum Labs\\autolab\\instruction_generator\n"
     ]
    }
   ],
   "source": [
    "cwd = os.getcwd()\n",
    "print(cwd)"
   ]
  },
  {
   "cell_type": "code",
   "execution_count": 12,
   "metadata": {},
   "outputs": [
    {
     "name": "stdout",
     "output_type": "stream",
     "text": [
      "another thing I want to mention about cleaning is that if you do use any surgical lube and a cannulas if you leave these [0.0-7.0]\n",
      " overnight the canyon as well Gunk up with the surgical Lube so it's always a good idea to take these off rinse them out or soak them in water to keep them clean otherwise you'll have to have new ones and if you have a tip for the syringe you can actually just cap that and then you have it ready to use for next time [7.0-24.0]\n",
      " and then of course [24.0-26.0]\n",
      "\n"
     ]
    }
   ],
   "source": [
    "model = \"text-davinci-003\"\n",
    "\n",
    "# read in transcript txt file\n",
    "transcript2 = \"\"\n",
    "with open(\"data/transcript_time.txt\", \"r\") as file:\n",
    "    transcript2 = file.read()\n",
    "\n",
    "print(transcript2)"
   ]
  },
  {
   "cell_type": "code",
   "execution_count": 15,
   "metadata": {},
   "outputs": [
    {
     "data": {
      "text/plain": [
       "131"
      ]
     },
     "execution_count": 15,
     "metadata": {},
     "output_type": "execute_result"
    }
   ],
   "source": [
    "#count tokens to figure out a good max_tokens value\n",
    "encoding = tiktoken.get_encoding(\"cl100k_base\")\n",
    "encoding = tiktoken.encoding_for_model(model)\n",
    "num_tokens = len(encoding.encode(transcript2))\n",
    "num_tokens"
   ]
  },
  {
   "cell_type": "code",
   "execution_count": 16,
   "metadata": {},
   "outputs": [
    {
     "name": "stdout",
     "output_type": "stream",
     "text": [
      "Lab Procedure:\n",
      "- Cleaning:\n",
      "- If using surgical lube and cannulas, remove them and rinse or soak in water overnight to prevent them from becoming gunked up with the lube (0.0-7.0).\n",
      "- If using a syringe tip, cap it for use next time (7.0-24.0).\n",
      "- Final Step: (24.0-26.0)\n"
     ]
    }
   ],
   "source": [
    "response_preset_output = openai.Completion.create(\n",
    "  model=model,\n",
    "  prompt=\"The following transcript of a lab experiement has text with start and end times of when they were said in a video. Edit the transcript into a clean and concise lab procedure that would appear in a lab report that contains the start and end times in each of the bullet points: \" + transcript2,\n",
    "  temperature=0.2, #in range (0,2), higher = more creative\n",
    "  max_tokens=num_tokens,\n",
    ")\n",
    "\n",
    "raw_response_preset = response_preset_output.get('choices')[0].get('text')\n",
    "response_preset = properReformat(raw_response_preset)\n",
    "print(response_preset)"
   ]
  },
  {
   "attachments": {},
   "cell_type": "markdown",
   "metadata": {},
   "source": [
    "### Messing around GPT4"
   ]
  },
  {
   "cell_type": "code",
   "execution_count": 68,
   "metadata": {},
   "outputs": [
    {
     "name": "stdout",
     "output_type": "stream",
     "text": [
      "Summary:\n",
      "The goal of this lab is to demonstrate the use of various instruments and techniques in eye surgery, specifically in inducing cataracts in pig eyes.\n",
      "\n",
      "Procedure:\n",
      "- Ensure that the lab space is equipped with shelves for storage, a sink for cleaning utensils, a hood for preparing fixatives, a microwave for inducing cataracts, and a mini fridge for storing specimens.\n",
      "- Set up the work table with an operating microscope and a teaching scope for the instructor to observe.\n",
      "- Lay out all the necessary instruments on the table.\n",
      "- Prepare the pig eye by using a foam head and pinning the eye down with pens at the approximate locations of the rectus muscles.\n"
     ]
    }
   ],
   "source": [
    "prompt = \"\"\"The following is a timestamped transcript of a lab. Edit it into a clean and concise procedure instruction that would appear in a lab report. Include \"Summary\" concisely stating the lab's goals, separate with \"Procedure\", start with \"-\" for each step. Transcript: \"\"\"\n",
    "msg = [{\"role\": \"system\", \"content\": prompt}, {\"role\": \"user\", \"content\": transcript},]\n",
    "a = openai.ChatCompletion.create(\n",
    "  model=\"gpt-3.5-turbo\",\n",
    "  messages=msg,\n",
    "  temperature=0.2, #in range (0,2), higher = more creative\n",
    "  max_tokens=1000,\n",
    ")\n",
    "print(a.choices[0].message.content)"
   ]
  },
  {
   "cell_type": "code",
   "execution_count": 73,
   "metadata": {},
   "outputs": [
    {
     "data": {
      "text/plain": [
       "'Summary:\\nThe goal of this lab is to demonstrate the use of various instruments and techniques in eye surgery, specifically in inducing cataracts in pig eyes.\\n\\nProcedure:\\n- Ensure that the lab space is equipped with shelves for storage, a sink for cleaning utensils, a hood for preparing fixatives, a microwave for inducing cataracts, and a mini fridge for storing specimens.\\n- Set up the work table with an operating microscope and a teaching scope for the instructor to observe.\\n- Lay out all the necessary instruments on the table.\\n- Prepare the pig eye by using a foam head and pinning the eye down with pens at the approximate locations of the rectus muscles.'"
      ]
     },
     "execution_count": 73,
     "metadata": {},
     "output_type": "execute_result"
    }
   ],
   "source": [
    "a.get(\"choices\")[0].get(\"finish_reason\")\n",
    "a.get(\"choices\")[0].get(\"message\").get(\"content\")"
   ]
  },
  {
   "cell_type": "code",
   "execution_count": null,
   "metadata": {},
   "outputs": [],
   "source": []
  }
 ],
 "metadata": {
  "kernelspec": {
   "display_name": "altum",
   "language": "python",
   "name": "python3"
  },
  "language_info": {
   "codemirror_mode": {
    "name": "ipython",
    "version": 3
   },
   "file_extension": ".py",
   "mimetype": "text/x-python",
   "name": "python",
   "nbconvert_exporter": "python",
   "pygments_lexer": "ipython3",
   "version": "3.11.0"
  },
  "orig_nbformat": 4
 },
 "nbformat": 4,
 "nbformat_minor": 2
}
